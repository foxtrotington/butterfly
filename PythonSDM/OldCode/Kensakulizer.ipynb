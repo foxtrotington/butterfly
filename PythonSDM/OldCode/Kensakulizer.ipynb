{
 "cells": [
  {
   "cell_type": "markdown",
   "metadata": {},
   "source": [
    "# Intro to Kensakulizer\n",
    "\n",
    "This program must reside within a fold that contains all species data in a csv format. It will then take that data and begin organizing it into the needed format for the SDM provided in class by jeff. Furthermore it then takes that data and breaks it down into a year by year and month by month format to allow for smaller packages to be ran with the sdm in parallel. This code can highly moduluar and able to be modified with ease to suit any formating needs or to only update data for specified months, years, or species. \n",
    "\n",
    "* csv - needed for the csv reader and writer\n",
    "* subprocess - used to clear console screen durning run as you monitor progress"
   ]
  },
  {
   "cell_type": "code",
   "execution_count": 2,
   "metadata": {},
   "outputs": [],
   "source": [
    "import csv\n",
    "import subprocess as sp\n",
    "import sys"
   ]
  },
  {
   "cell_type": "markdown",
   "metadata": {},
   "source": [
    "## listOfIdsNames\n",
    "\n",
    "This function works similar to data puller. You have a two column text file that has taxonID first then species scientific name second that a dictionary is created from and then returned to main to be used in the cleaner function.\n",
    "\n",
    "*file - takes the file called taxon-Ids.txt\n",
    "\n",
    "returns the created dictionary with the taxonID as the key and species scientific name as the value"
   ]
  },
  {
   "cell_type": "code",
   "execution_count": 3,
   "metadata": {},
   "outputs": [],
   "source": [
    "def listOfIdsNames():\n",
    "    file = open(\"taxon-Ids.txt\").readlines()\n",
    "    dictionary = {}\n",
    "    count = 0\n",
    "    for data in file:\n",
    "        data = data.strip().split()\n",
    "        if(count != 0):\n",
    "            dictionary[data[0]] = data[1]+\" \"+data[2]\n",
    "        else:       \n",
    "            count = 1;\n",
    "    return dictionary"
   ]
  },
  {
   "cell_type": "markdown",
   "metadata": {},
   "source": [
    "## cleaner \n",
    "This function takes a dictionary provided either by the user in main or from listOfIdsNames and then begins going through all data within the directory with taxonIds that are within the dictionarys key values. The data structure works in a dictionary of dictionaries. \n",
    "\n",
    "* data -> \n",
    "        * id ->\n",
    "                * observationData = [id,lat,long]\n",
    "                \n",
    "Once complete a triple nested loop runs with the following structure\n",
    "\n",
    "* id ->\n",
    "        * years ->\n",
    "                    * months ->\n",
    "                                *geoloation data write out for month\n",
    "                                \n",
    "\n",
    "As you can see each month for the taxonID is written out but can be modified to also include year data, multi year data, multi month etc. \n",
    "                                \n",
    "                \n"
   ]
  },
  {
   "cell_type": "code",
   "execution_count": 5,
   "metadata": {},
   "outputs": [],
   "source": [
    "def cleaner(species):\n",
    "\n",
    "\tdata = {}\n",
    "\tcounter=1\n",
    "\tspecies = [52773]\n",
    "\tfor id in species:\n",
    "\t\tprint(str(counter/len(species)*100)+str('%'))\n",
    "\t\tcounter+=1\n",
    "\t\t#print(id)\n",
    "\t\tif id != '216349': #note that this taxonID was not present in iNaturalist pull from the SDM there for it is excluded\n",
    "\n",
    "\t\t\tinnie = str(id)+\"-iNaturalist.csv\"\n",
    "\n",
    "\t\tif id not in data:\n",
    "\t\t\tdata[id] = {}\n",
    "\n",
    "\n",
    "\n",
    "\n",
    "\t\t\twith open(innie,newline='',encoding='utf-8') as f:\n",
    "\t\t\t\treader = csv.reader(f)\n",
    "\t\t\t\n",
    "\t\t\t\n",
    "\t\t\t\tfor row in reader:\n",
    "\t\t\t\t\n",
    "\t\t\t\t\tif len(row) >6 and row[19] != 'observed_on':\n",
    "\t\t\t\t\t\tdates = row[19].split(\"-\")\n",
    "\t\t\t\t\t\t\n",
    "\t\t\t\t\t\tif dates[0] not in data[id]:\n",
    "\t\t\t\t\t\t\tdata[id][dates[0]]={}\n",
    "\t\t\t\t\t\t\t\n",
    "\t\t\t\t\t\tif dates[1] not in data[id][dates[0]]:\n",
    "\t\t\t\t\t\t\tdata[id][dates[0]][dates[1]]=[]\n",
    "\t\t\t\t\t\tobservationData=[]\n",
    "\t\t\t\t\t\tobservationData.append(id)\n",
    "\t\t\t\t\t\tobservationData.append(row[4])\n",
    "\t\t\t\t\t\tobservationData.append(row[5])\n",
    "\t\t\t\t\t\tdata[id][dates[0]][dates[1]].append(observationData)\n",
    "\t\t\t\t\n",
    "\t\t\t\t\t\t#writer.writerow(shit)\n",
    "\n",
    "\t\t\tmasterWrite = []\n",
    "\t\t\tfor ids in data:\n",
    "\n",
    "\t\t\t\tfor years in data[ids]:\n",
    "\t\t\t\t\t\n",
    "\n",
    "\t\t\t\t\tfor months in data[ids][years]:\n",
    "\n",
    "\t\t\t\t\t\touttie = open(str(id)+\"-\"+str(years)+\"-\"+str(months)+\".csv\",'w',newline='',encoding='utf-8')\n",
    "\t\t\t\t\t\theaders = [\"taxonID\", \"latitude\", \"longitude\"]\n",
    "\t\t\t\t\t\twriter = csv.writer(outtie)\n",
    "\t\t\t\t\t\twriter.writerow(headers)\n",
    "\n",
    "\t\t\t\t\t\tfor geo in data[ids][years][months]:\n",
    "\n",
    "\t\t\t\t\t\t\twriter.writerow(geo)\n",
    "\n",
    "\n",
    "\n",
    "\tf.close()\n",
    "\touttie.close()"
   ]
  },
  {
   "cell_type": "code",
   "execution_count": 6,
   "metadata": {},
   "outputs": [
    {
     "name": "stdout",
     "output_type": "stream",
     "text": [
      "Running\n",
      "100.0%\n",
      "Complete\n"
     ]
    }
   ],
   "source": [
    "def main():\n",
    "    print(\"Running\")\n",
    "    butterflys = listOfIdsNames()\n",
    "    cleaner(butterflys)\n",
    "    print(\"Complete\")\n",
    "\n",
    "main()"
   ]
  },
  {
   "cell_type": "code",
   "execution_count": null,
   "metadata": {},
   "outputs": [],
   "source": []
  }
 ],
 "metadata": {
  "kernelspec": {
   "display_name": "Python 3",
   "language": "python",
   "name": "python3"
  },
  "language_info": {
   "codemirror_mode": {
    "name": "ipython",
    "version": 3
   },
   "file_extension": ".py",
   "mimetype": "text/x-python",
   "name": "python",
   "nbconvert_exporter": "python",
   "pygments_lexer": "ipython3",
   "version": "3.6.2"
  }
 },
 "nbformat": 4,
 "nbformat_minor": 2
}
