{
 "cells": [
  {
   "cell_type": "markdown",
   "metadata": {},
   "source": [
    "# Retrieve SDM Script\n",
    "\n",
    "By using this script, you'll be able to pull up the images that correspond to the filters supplied. Here are the filters and what they expect: \n",
    "\n",
    "taxonId: This is the iNaturalist taxonId of the species you're interested in\n",
    "year: The year you're interested. It expects a value in the form yyyy e.g. 2017\n",
    "month: The month you're interested in. It expects a value in the form mm e.g. 03 for March\n",
    "\n",
    "If the filters you supplied don't find a SDM, the output will be a File Does Not Exist sentence. Keep in mind that if observation data for a species taxonId does not contain the necessary number of observations in a month-year pair, then no SDM will be generated for that pairing. "
   ]
  },
  {
   "cell_type": "code",
   "execution_count": 26,
   "metadata": {
    "scrolled": false
   },
   "outputs": [
    {
     "name": "stdout",
     "output_type": "stream",
     "text": [
      "Enter the taxonId of the species you'd like to see: 122381\n",
      "Enter the year you'd like to see: 2017\n",
      "Enter the month you'd like to see: 90\n",
      "\n",
      "\n",
      "No Valid Month Entered\n",
      "\n",
      "\n",
      "File does not exist for that combination of filters\n"
     ]
    }
   ],
   "source": [
    "import pandas as pd\n",
    "from IPython.display import Image\n",
    "import os\n",
    "\n",
    "monthMap = {\"January\": \"01\", \"February\": \"02\", \"March\": \"03\", \"April\": \"04\", \"May\": \"05\", \"June\": \"06\", \"July\": \"07\", \"August\": \"08\", \"September\": \"09\", \"October\": \"10\", \"November\": \"11\", \"December\": \"12\"}\n",
    "months = [\"01\", \"02\", \"03\", \"04\", \"05\", \"06\", \"07\", \"08\", \"09\", \"10\", \"11\", \"12\"]\n",
    "\n",
    "taxonId = input(\"Enter the taxonId of the species you'd like to see: \")\n",
    "year = input(\"Enter the year you'd like to see: \")\n",
    "month = input(\"Enter the month you'd like to see: \")\n",
    "\n",
    "try: \n",
    "    month = months[abs(int(month) - 1)]\n",
    "except ValueError: \n",
    "    month = monthMap[month]\n",
    "except IndexError:\n",
    "    print(\"\\n\\nNo Valid Month Entered\")    \n",
    "\n",
    "pathToFile = \"../data/sdm_results/{}/{}/{}/{}-prediction.png\".format(taxonId, year, month, taxonId)\n",
    "\n",
    "if not os.path.exists(pathToFile):\n",
    "    print(\"\\n\\nFile does not exist for that combination of filters\")\n",
    "\n",
    "else:\n",
    "    #read in an image\n",
    "    image = Image(pathToFile)\n",
    "    display(image)"
   ]
  },
  {
   "cell_type": "code",
   "execution_count": null,
   "metadata": {},
   "outputs": [],
   "source": []
  }
 ],
 "metadata": {
  "kernelspec": {
   "display_name": "Python 3",
   "language": "python",
   "name": "python3"
  },
  "language_info": {
   "codemirror_mode": {
    "name": "ipython",
    "version": 3
   },
   "file_extension": ".py",
   "mimetype": "text/x-python",
   "name": "python",
   "nbconvert_exporter": "python",
   "pygments_lexer": "ipython3",
   "version": "3.6.2"
  }
 },
 "nbformat": 4,
 "nbformat_minor": 2
}
